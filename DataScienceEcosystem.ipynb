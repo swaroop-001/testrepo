{
  "metadata": {
    "language_info": {
      "codemirror_mode": {
        "name": "python",
        "version": 3
      },
      "file_extension": ".py",
      "mimetype": "text/x-python",
      "name": "python",
      "nbconvert_exporter": "python",
      "pygments_lexer": "ipython3",
      "version": "3.8"
    },
    "kernelspec": {
      "name": "python",
      "display_name": "Python (Pyodide)",
      "language": "python"
    }
  },
  "nbformat_minor": 4,
  "nbformat": 4,
  "cells": [
    {
      "cell_type": "markdown",
      "source": "# Data Science Tools and Ecosystem ",
      "metadata": {}
    },
    {
      "cell_type": "markdown",
      "source": "In this notebook, Data Science Tools and Ecosystem are summarized.",
      "metadata": {}
    },
    {
      "cell_type": "markdown",
      "source": "__Objectives:__\n* List poular languages for Datscience\n* commonly used libraries in python\n* Examples of arithmetic expression in python",
      "metadata": {}
    },
    {
      "cell_type": "markdown",
      "source": "### Some of the popular languages that Data Scientists use are:\n1. python\n2. sql\n3. c++",
      "metadata": {}
    },
    {
      "cell_type": "markdown",
      "source": "### Some of the commonly used libraries used by Data Scientists include:\n1. Pandas\n2. TensorFlow\n3. NumPy\n4. SciPy",
      "metadata": {}
    },
    {
      "cell_type": "markdown",
      "source": "| Data Science Tools   |\n|----------------------|\n| Jupyter Notebook     |\n| RStudio              |\n| VS Code with Python  |\n",
      "metadata": {}
    },
    {
      "cell_type": "markdown",
      "source": "### Below are a few examples of evaluating arithmetic expressions in Python",
      "metadata": {}
    },
    {
      "cell_type": "code",
      "source": "#This a simple arithmetic expression to mutiply then add integers\n(3*4)+5",
      "metadata": {
        "trusted": true
      },
      "execution_count": 1,
      "outputs": [
        {
          "execution_count": 1,
          "output_type": "execute_result",
          "data": {
            "text/plain": "17"
          },
          "metadata": {}
        }
      ]
    },
    {
      "cell_type": "code",
      "source": "# This will convert 200 minutes to hours by diving by 60\n200/60",
      "metadata": {
        "trusted": true
      },
      "execution_count": 3,
      "outputs": [
        {
          "execution_count": 3,
          "output_type": "execute_result",
          "data": {
            "text/plain": "3.3333333333333335"
          },
          "metadata": {}
        }
      ]
    },
    {
      "cell_type": "markdown",
      "source": "## Author\nS Amrith Swaroop",
      "metadata": {}
    },
    {
      "cell_type": "code",
      "source": "",
      "metadata": {},
      "execution_count": null,
      "outputs": []
    }
  ]
}